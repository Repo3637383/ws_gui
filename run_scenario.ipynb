{
 "cells": [
  {
   "cell_type": "code",
   "execution_count": 2,
   "id": "48d571db-fa7b-4fbd-a374-9e6b988155bc",
   "metadata": {},
   "outputs": [
    {
     "data": {
      "application/vnd.jupyter.widget-view+json": {
       "model_id": "2e780c7246674c6790e07577be7496be",
       "version_major": 2,
       "version_minor": 0
      },
      "text/plain": [
       "Text(value='100', description='PRNG seed', style=TextStyle(description_width='initial'))"
      ]
     },
     "metadata": {},
     "output_type": "display_data"
    },
    {
     "data": {
      "application/vnd.jupyter.widget-view+json": {
       "model_id": "ceab49c8edab4739abc4d7335a503b6d",
       "version_major": 2,
       "version_minor": 0
      },
      "text/plain": [
       "Text(value='500', description='duration of the simulation in ticks', style=TextStyle(description_width='initia…"
      ]
     },
     "metadata": {},
     "output_type": "display_data"
    },
    {
     "data": {
      "application/vnd.jupyter.widget-view+json": {
       "model_id": "90e238eb9fb342d6a09c9c6201c0a253",
       "version_major": 2,
       "version_minor": 0
      },
      "text/plain": [
       "IntSlider(value=2, description='start_time_1', max=42, style=SliderStyle(description_width='initial'))"
      ]
     },
     "metadata": {},
     "output_type": "display_data"
    },
    {
     "data": {
      "application/vnd.jupyter.widget-view+json": {
       "model_id": "c002d78450ba410d88e9570153776594",
       "version_major": 2,
       "version_minor": 0
      },
      "text/plain": [
       "IntSlider(value=4, description='Start time for flow 2', max=42, style=SliderStyle(description_width='initial')…"
      ]
     },
     "metadata": {},
     "output_type": "display_data"
    },
    {
     "data": {
      "application/vnd.jupyter.widget-view+json": {
       "model_id": "cc7c86bb37a84ff491b6f34576465c65",
       "version_major": 2,
       "version_minor": 0
      },
      "text/plain": [
       "Text(value='6', description='start_time_3', style=TextStyle(description_width='initial'))"
      ]
     },
     "metadata": {},
     "output_type": "display_data"
    },
    {
     "data": {
      "application/vnd.jupyter.widget-view+json": {
       "model_id": "96ec278a984d41bab22481b4661011dd",
       "version_major": 2,
       "version_minor": 0
      },
      "text/plain": [
       "Text(value='10', description='arrival interval for the first queue', style=TextStyle(description_width='initia…"
      ]
     },
     "metadata": {},
     "output_type": "display_data"
    },
    {
     "data": {
      "application/vnd.jupyter.widget-view+json": {
       "model_id": "ad64fb93b2b04478b37a45940bf8fd6e",
       "version_major": 2,
       "version_minor": 0
      },
      "text/plain": [
       "Text(value='15', description='arrival interval for the second queue', style=TextStyle(description_width='initi…"
      ]
     },
     "metadata": {},
     "output_type": "display_data"
    },
    {
     "data": {
      "application/vnd.jupyter.widget-view+json": {
       "model_id": "ba60879113f04060a51d278aa2a0a440",
       "version_major": 2,
       "version_minor": 0
      },
      "text/plain": [
       "Text(value='20', description='arrival interval for the third queue', style=TextStyle(description_width='initia…"
      ]
     },
     "metadata": {},
     "output_type": "display_data"
    },
    {
     "data": {
      "application/vnd.jupyter.widget-view+json": {
       "model_id": "8cffa4f0c1a04539a92fcb656025f63c",
       "version_major": 2,
       "version_minor": 0
      },
      "text/plain": [
       "Button(description='Run scenario', style=ButtonStyle())"
      ]
     },
     "metadata": {},
     "output_type": "display_data"
    },
    {
     "data": {
      "application/vnd.jupyter.widget-view+json": {
       "model_id": "dfc7f235d43840b1a5c431c23860b38c",
       "version_major": 2,
       "version_minor": 0
      },
      "text/plain": [
       "Output()"
      ]
     },
     "metadata": {},
     "output_type": "display_data"
    },
    {
     "data": {
      "application/vnd.jupyter.widget-view+json": {
       "model_id": "062be863bb9047c4bd817ddf7ce9c7d4",
       "version_major": 2,
       "version_minor": 0
      },
      "text/plain": [
       "Textarea(value='')"
      ]
     },
     "metadata": {},
     "output_type": "display_data"
    }
   ],
   "source": [
    "import ipywidgets as widgets\n",
    "from IPython.display import display, clear_output\n",
    "import io\n",
    "from dataclasses import dataclass, fields\n",
    "import sys\n",
    "from sim import TSim\n",
    "from profiles.example_basic_queueing.scenario import Args\n",
    "from lib.arg import Int, Float\n",
    "from typing import Tuple\n",
    "\n",
    "class InvalidArgDefinition(Exception):\n",
    "    pass\n",
    "\n",
    "def get_bounds(v)->Tuple[float, float]:\n",
    "    try:\n",
    "        bounds = v.bounds\n",
    "        assert len(bounds) ==2\n",
    "        assert bounds[0] is not None\n",
    "        assert bounds[1] is not None    \n",
    "        \n",
    "        return bounds\n",
    "    except:\n",
    "        raise InvalidArgDefinition()\n",
    "\n",
    "def generate_widgets_for_args_class(dataclass_type):\n",
    "    \"\"\"\n",
    "    Generate a dictionary of ipywidgets based on the params of a dataclass.\n",
    "    \"\"\"\n",
    "    widgets_dict = {}\n",
    "    style = {'description_width': 'initial'}\n",
    "    for field in fields(dataclass_type):    \n",
    "        field_type = field.type       \n",
    "        descr=field_type.kwargs.get('help', field.name)\n",
    "        if not len(descr):\n",
    "            descr = field.name\n",
    "        wbuild_args = dict(description=descr, style=style)\n",
    "        try:\n",
    "            if isinstance(field_type, Int):                \n",
    "                bounds = get_bounds(field_type)                            \n",
    "                widgets_dict[field.name] = widgets.IntSlider(value=field.default, min=bounds[0], max=bounds[1], **wbuild_args)\n",
    "            elif isinstance(field_type, Float):\n",
    "                bounds = get_bounds(field_type)\n",
    "                widgets_dict[field.name] = widgets.FloatSlider(value=field.default, min=bounds[0], max=bounds[1], **wbuild_args)\n",
    "            else:\n",
    "                raise InvalidArgDefinition()\n",
    "        except InvalidArgDefinition:\n",
    "            widgets_dict[field.name] = widgets.Text(value=str(field.default), **wbuild_args)\n",
    "    return widgets_dict\n",
    "\n",
    "widgets_dict = generate_widgets_for_args_class(Args)\n",
    "\n",
    "\n",
    "\n",
    "\n",
    "for widget in widgets_dict.values():\n",
    "    display(widget)\n",
    "\n",
    "\n",
    "output_widget = widgets.Output()\n",
    "results_widget = widgets.Textarea()\n",
    "\n",
    "\n",
    "def run_simulation(btn):   \n",
    "    dataclass_type = Args\n",
    "    kv = {}\n",
    "    for field in fields(dataclass_type):    \n",
    "        v = widgets_dict[field.name].value\n",
    "        print(type(v))\n",
    "        kv[field.name] = v\n",
    "        \n",
    "    args = Args(**kv)\n",
    "    \n",
    "    results_stream = io.StringIO(\"\")\n",
    "    \n",
    "    with output_widget:        \n",
    "        clear_output(wait=True) \n",
    "        # print(type(results_stream))\n",
    "        try:\n",
    "            sim = TSim(stats_storage=results_stream)            \n",
    "            print(\"sim created\")\n",
    "            print(\"Load scenario\")\n",
    "            \n",
    "            sim.load_scenario(\"\")           \n",
    "            print(\"sim start\")\n",
    "            sim.start()\n",
    "            print(\"sim end\")            \n",
    "            results_widget.value = results_stream.getvalue()\n",
    "        except Exception as e:\n",
    "            from gl_vars import gl\n",
    "            gl.reset()\n",
    "            raise\n",
    "            \n",
    "        \n",
    "\n",
    "\n",
    "button = widgets.Button(description=\"Run scenario\")\n",
    "button.on_click(run_simulation)\n",
    "display(button, output_widget, results_widget)\n"
   ]
  },
  {
   "cell_type": "code",
   "execution_count": null,
   "id": "8d618bf7-5d41-42ea-a0b8-af7c10f7fa95",
   "metadata": {},
   "outputs": [],
   "source": []
  },
  {
   "cell_type": "code",
   "execution_count": null,
   "id": "95754358-5cb1-4e5e-bffe-7967d38a59bf",
   "metadata": {},
   "outputs": [],
   "source": []
  },
  {
   "cell_type": "code",
   "execution_count": null,
   "id": "baf14a00-b1d9-4839-877d-8d5fce3afa2f",
   "metadata": {},
   "outputs": [],
   "source": []
  },
  {
   "cell_type": "code",
   "execution_count": null,
   "id": "19581b06-679b-49c3-821c-b9e08362e473",
   "metadata": {},
   "outputs": [],
   "source": []
  },
  {
   "cell_type": "code",
   "execution_count": null,
   "id": "fe166fc5-7436-4090-bed0-58bcd981c6a1",
   "metadata": {},
   "outputs": [],
   "source": []
  },
  {
   "cell_type": "code",
   "execution_count": null,
   "id": "e02926c9-20c7-42b3-967f-7576c7ef5160",
   "metadata": {},
   "outputs": [],
   "source": []
  },
  {
   "cell_type": "code",
   "execution_count": null,
   "id": "495d5b04-b01a-4cb9-870c-073433376dac",
   "metadata": {},
   "outputs": [],
   "source": []
  },
  {
   "cell_type": "code",
   "execution_count": null,
   "id": "2949efb9-b148-401a-a581-31766b82b01a",
   "metadata": {},
   "outputs": [],
   "source": []
  },
  {
   "cell_type": "code",
   "execution_count": null,
   "id": "4a96dd0b-1217-4a20-808f-e7ad3318dc97",
   "metadata": {},
   "outputs": [],
   "source": []
  },
  {
   "cell_type": "code",
   "execution_count": null,
   "id": "5ba291da-672e-45f9-879c-9abdc11ed7e3",
   "metadata": {},
   "outputs": [],
   "source": []
  },
  {
   "cell_type": "code",
   "execution_count": null,
   "id": "549e4f21-2639-4816-b465-69eb1065551c",
   "metadata": {},
   "outputs": [],
   "source": []
  },
  {
   "cell_type": "code",
   "execution_count": null,
   "id": "f2e5fcce-3147-4da2-852f-6577e7c2fd22",
   "metadata": {},
   "outputs": [],
   "source": []
  },
  {
   "cell_type": "code",
   "execution_count": null,
   "id": "ca25987a-d248-48a6-835b-7e471255f6e9",
   "metadata": {},
   "outputs": [],
   "source": []
  },
  {
   "cell_type": "code",
   "execution_count": null,
   "id": "cf1e9017-2cd7-44df-9647-d4a5f0e8939b",
   "metadata": {},
   "outputs": [],
   "source": []
  },
  {
   "cell_type": "code",
   "execution_count": null,
   "id": "cb17a038-a735-401f-ae2a-b9b7ae40dd89",
   "metadata": {},
   "outputs": [],
   "source": []
  }
 ],
 "metadata": {
  "kernelspec": {
   "display_name": "Python 3 (ipykernel)",
   "language": "python",
   "name": "python3"
  },
  "language_info": {
   "codemirror_mode": {
    "name": "ipython",
    "version": 3
   },
   "file_extension": ".py",
   "mimetype": "text/x-python",
   "name": "python",
   "nbconvert_exporter": "python",
   "pygments_lexer": "ipython3",
   "version": "3.10.12"
  }
 },
 "nbformat": 4,
 "nbformat_minor": 5
}
